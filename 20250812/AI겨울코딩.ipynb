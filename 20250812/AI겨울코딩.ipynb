{
 "cells": [
  {
   "cell_type": "code",
   "execution_count": null,
   "id": "5a2e0b8c",
   "metadata": {},
   "outputs": [
    {
     "name": "stdout",
     "output_type": "stream",
     "text": [
      "입력 X:\n",
      "[[0 0]\n",
      " [0 1]\n",
      " [1 0]\n",
      " [1 1]]\n",
      "예측 결과:\n",
      "[0 1 1 1]\n",
      "정답과 일치 여부: [ True  True  True  True]\n"
     ]
    }
   ],
   "source": [
    "from sklearn.linear_model import LogisticRegression\n",
    "import numpy as np\n",
    "\n",
    "# AND gate 입력과 출력\n",
    "X = np.array([[0, 0],\n",
    "              [0, 1],\n",
    "              [1, 0],\n",
    "              [1, 1]])\n",
    "y = np.array([0, 0, 0, 1])  # AND gate 결과\n",
    "#y = np.array([0, 1, 1, 1])\n",
    "# 모델 생성 및 학습\n",
    "model = LogisticRegression(# z = w0x0+w1x1+b, y = sigmoid(z) = 1/(1+e-z)\n",
    "    C=1e6,                # 규제 거의 없음\n",
    "    max_iter=10000,       # 충분히 수렴\n",
    "    solver='liblinear',   # 작은 데이터에서 안정적\n",
    "    class_weight='balanced'   # 원하면 켜보세요) \n",
    ")\n",
    "model.fit(X, y)\n",
    "\n",
    "# 예측\n",
    "predictions = model.predict(X)\n",
    "print(\"입력 X:\")\n",
    "print(X)\n",
    "print(\"예측 결과:\")\n",
    "print(predictions)\n",
    "\n",
    "# 실제 값과 비교\n",
    "print(\"정답과 일치 여부:\", predictions == y)\n"
   ]
  },
  {
   "cell_type": "code",
   "execution_count": null,
   "id": "6e8f3b42",
   "metadata": {},
   "outputs": [
    {
     "name": "stdout",
     "output_type": "stream",
     "text": [
      "입력 X:\n",
      "[[0 0]\n",
      " [0 1]\n",
      " [1 0]\n",
      " [1 1]]\n",
      "예측 결과:\n",
      "[0 0 0 0]\n",
      "정답과 일치 여부: [ True False False  True]\n"
     ]
    }
   ],
   "source": [
    "# AI 겨울 1차 \n",
    "from sklearn.linear_model import LogisticRegression\n",
    "import numpy as np\n",
    "\n",
    "# XOR gate 입력과 출력\n",
    "X = np.array([[0, 0],\n",
    "              [0, 1],\n",
    "              [1, 0],\n",
    "              [1, 1]])\n",
    "y = np.array([0, 1, 1, 0])  # XOR 결과\n",
    "\n",
    "# 모델 생성 및 학습\n",
    "model = LogisticRegression(\n",
    "    # z = w0x0+w1x1+b, y = sigmoid(z) = 1/(1+e-z)\n",
    "    C=1e6,                # 규제 거의 없음\n",
    "    max_iter=10000,       # 충분히 수렴\n",
    "    solver='liblinear',   # 작은 데이터에서 안정적\n",
    "    class_weight='balanced'   # 원하면 켜보세요) \n",
    ")\n",
    "model.fit(X, y)\n",
    "\n",
    "# 예측\n",
    "predictions = model.predict(X)\n",
    "print(\"입력 X:\")\n",
    "print(X)\n",
    "print(\"예측 결과:\")\n",
    "print(predictions)\n",
    "\n",
    "# 실제 값과 비교\n",
    "print(\"정답과 일치 여부:\", predictions == y)\n"
   ]
  },
  {
   "cell_type": "markdown",
   "id": "ba71b588",
   "metadata": {},
   "source": [
    "PolynomialFeatures(degree=2)는 입력 특성 x0, x1로 부터 \n",
    "\n",
    "모든 조합의 항을 차수 ≤ 2 범위에서 자동 생성\n",
    "\n",
    "특성 이름: ['1' 'x0' 'x1' 'x0^2' 'x0 x1' 'x1^2']\n",
    "\n",
    "[[1. 0. 0. 0. 0. 0.]\n",
    "\n",
    " [1. 0. 1. 0. 0. 1.]\n",
    "\n",
    " [1. 1. 0. 1. 0. 0.]\n",
    " \n",
    " [1. 1. 1. 1. 1. 1.]]\n"
   ]
  },
  {
   "cell_type": "code",
   "execution_count": 20,
   "id": "6161a010",
   "metadata": {},
   "outputs": [
    {
     "name": "stdout",
     "output_type": "stream",
     "text": [
      "예측 결과: [0 1 1 0]\n",
      "정답과 일치 여부: [ True  True  True  True]\n"
     ]
    }
   ],
   "source": [
    "from sklearn.linear_model import LogisticRegression\n",
    "from sklearn.preprocessing import PolynomialFeatures\n",
    "from sklearn.pipeline import make_pipeline\n",
    "import numpy as np\n",
    "\n",
    "# XOR 데이터\n",
    "X = np.array([[0, 0],\n",
    "              [0, 1],\n",
    "              [1, 0],\n",
    "              [1, 1]])\n",
    "y = np.array([0, 1, 1, 0])\n",
    "\n",
    "# 다항 특성 추가 + 로지스틱 회귀 파이프라인\n",
    "model = make_pipeline(PolynomialFeatures(degree=2), LogisticRegression(\n",
    "    # z = w0x0+w1x1+b, y = sigmoid(z) = 1/(1+e-z)\n",
    "    C=1e6,                # 규제 거의 없음\n",
    "    max_iter=10000,       # 충분히 수렴\n",
    "    solver='liblinear',   # 작은 데이터에서 안정적\n",
    "    class_weight='balanced'   # 원하면 켜보세요) \n",
    "))\n",
    "model.fit(X, y)\n",
    "\n",
    "# 예측\n",
    "predictions = model.predict(X)\n",
    "print(\"예측 결과:\", predictions)\n",
    "print(\"정답과 일치 여부:\", predictions == y)\n"
   ]
  },
  {
   "cell_type": "code",
   "execution_count": null,
   "id": "f15aa2d4",
   "metadata": {},
   "outputs": [
    {
     "name": "stdout",
     "output_type": "stream",
     "text": [
      "예측 결과: [1 1 1 0]\n",
      "정답과 일치 여부: [False  True  True  True]\n"
     ]
    }
   ],
   "source": [
    "from sklearn.neural_network import MLPClassifier\n",
    "import numpy as np\n",
    "\n",
    "# XOR gate 입력과 출력\n",
    "X = np.array([[0, 0],\n",
    "              [0, 1],\n",
    "              [1, 0],\n",
    "              [1, 1]])\n",
    "y = np.array([0, 1, 1, 0])  # XOR 결과\n",
    "\n",
    "# MLP 모델 생성: 은닉층 1개 (노드 2개), 활성화 함수 'relu'\n",
    "mlp = MLPClassifier(hidden_layer_sizes=(2,), activation='tanh',\n",
    "                    solver='lbfgs', max_iter=10000, alpha=1e-6,random_state=0)\n",
    "\n",
    "# 모델 학습\n",
    "mlp.fit(X, y)\n",
    "\n",
    "# 예측\n",
    "predictions = mlp.predict(X)\n",
    "print(\"예측 결과:\", predictions)\n",
    "print(\"정답과 일치 여부:\", predictions == y)\n"
   ]
  },
  {
   "cell_type": "code",
   "execution_count": null,
   "id": "fc950faf",
   "metadata": {},
   "outputs": [
    {
     "name": "stdout",
     "output_type": "stream",
     "text": [
      "예측 결과: [0 1 1 0]\n",
      "정답과 일치 여부: [ True  True  True  True]\n"
     ]
    }
   ],
   "source": [
    "#Multi-Layer Perceptron Classifier\n",
    "\n",
    "from sklearn.neural_network import MLPClassifier\n",
    "import numpy as np\n",
    "\n",
    "# XOR 입력과 출력\n",
    "X = np.array([[0, 0],\n",
    "              [0, 1],\n",
    "              [1, 0],\n",
    "              [1, 1]])\n",
    "y = np.array([0, 1, 1, 0])  # XOR 결과\n",
    "\n",
    "# MLP 모델: 은닉층 2개 (4, 4), 활성화 tanh\n",
    "mlp = MLPClassifier(hidden_layer_sizes=(4, 4),\n",
    "                    activation='tanh',\n",
    "                    solver='adam',\n",
    "                    max_iter=5000,\n",
    "                    random_state=42)\n",
    "\n",
    "# 학습\n",
    "mlp.fit(X, y)\n",
    "\n",
    "# 예측\n",
    "predictions = mlp.predict(X)\n",
    "print(\"예측 결과:\", predictions)\n",
    "print(\"정답과 일치 여부:\", predictions == y)\n"
   ]
  },
  {
   "cell_type": "code",
   "execution_count": 22,
   "id": "c04ce158",
   "metadata": {},
   "outputs": [
    {
     "name": "stdout",
     "output_type": "stream",
     "text": [
      "예측 결과: [0 1 1 1 0 0 0 1]\n",
      "정답과 일치 여부: [ True  True  True  True  True  True  True  True]\n"
     ]
    }
   ],
   "source": [
    "from sklearn.neural_network import MLPClassifier\n",
    "import numpy as np\n",
    "\n",
    "# XOR 입력과 출력\n",
    "X = np.array([[0, 0, 0],\n",
    "              [0, 1, 0],\n",
    "              [1, 0, 0],\n",
    "              [0, 0, 1],\n",
    "              [0, 1, 1],\n",
    "              [1, 1, 0],\n",
    "              [1, 0, 1],\n",
    "              [1, 1, 1]])\n",
    "y = np.array([0, 1, 1, 1, 0,0,0,1])  # XOR 결과\n",
    "\n",
    "# MLP 모델: 은닉층 2개 (4, 4), 활성화 tanh\n",
    "mlp = MLPClassifier(hidden_layer_sizes=(4, 4),\n",
    "                    activation='tanh',\n",
    "                    solver='adam',\n",
    "                    max_iter=5000,\n",
    "                    random_state=42)\n",
    "\n",
    "# 학습\n",
    "mlp.fit(X, y)\n",
    "\n",
    "# 예측\n",
    "predictions = mlp.predict(X)\n",
    "print(\"예측 결과:\", predictions)\n",
    "print(\"정답과 일치 여부:\", predictions == y)"
   ]
  },
  {
   "cell_type": "markdown",
   "id": "2503730e",
   "metadata": {},
   "source": [
    "1차 AI 겨울(1970년대 초반) → 대표적인 계기 중 하나가 퍼셉트론이 XOR 문제를 풀 수 없다는 한계가 널리 알려진 것\n",
    "\n",
    "- (1969년 Minsky & Papert의 『Perceptrons』에서 단층 퍼셉트론의 한계 지적)\n",
    "\n",
    "\n",
    "2차 AI 겨울(1980년대 후반~1990년대 중반) → 주된 원인은 **전문가 시스템(Expert Systems)**의 실패\n",
    "\n",
    "- 1980년대 초~중반, 전문가 시스템이 상업적으로 대규모 투자와 붐을 일으킴 (예: XCON, MYCIN 등)\n",
    "\n",
    "  > 유지보수 비용 급증, 지식베이스 확장의 어려움, 기대 대비 성능 저조\n",
    "\n",
    "- 동시에 일본의 5세대 컴퓨터 프로젝트도 실패로 끝나면서 신뢰 하락\n",
    "\n",
    "- 미국 DARPA(DoD Defense Advanced Research Projects Agency)도 AI 연구 자금 대폭 삭감\n",
    "  > 1990년대 초중반까지 AI 분야 전반에 투자 위축과 관심 급감"
   ]
  }
 ],
 "metadata": {
  "kernelspec": {
   "display_name": "Python 3",
   "language": "python",
   "name": "python3"
  },
  "language_info": {
   "codemirror_mode": {
    "name": "ipython",
    "version": 3
   },
   "file_extension": ".py",
   "mimetype": "text/x-python",
   "name": "python",
   "nbconvert_exporter": "python",
   "pygments_lexer": "ipython3",
   "version": "3.9.13"
  }
 },
 "nbformat": 4,
 "nbformat_minor": 5
}
