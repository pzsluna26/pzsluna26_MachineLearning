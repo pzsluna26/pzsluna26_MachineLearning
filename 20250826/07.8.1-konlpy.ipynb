{
 "cells": [
  {
   "cell_type": "markdown",
   "metadata": {
    "id": "5pn5G1GrZQPF"
   },
   "source": [
    "# 7.8.1 KoNLPy를 사용한 영화 리뷰 분석"
   ]
  },
  {
   "cell_type": "markdown",
   "metadata": {},
   "source": [
    "- 한글로 된 영화 리뷰 감성 분석\n",
    "\n",
    "  > KoNLPY+Countvectorize를 사용한 감성 분석\n",
    "\n",
    "  > 네이버 영화 리뷰 데이터세트 github: github.com/e9t/nsmc/\n",
    "\n",
    "    >> ratings_train.txt,ratings_test.txt를  data folder에 다운로드"
   ]
  },
  {
   "cell_type": "code",
   "execution_count": 1,
   "metadata": {},
   "outputs": [],
   "source": [
    "# tweepy와 konlpy 설치\n",
    "!pip install -q tweepy==3.10 konlpy\n"
   ]
  },
  {
   "cell_type": "code",
   "execution_count": 2,
   "metadata": {},
   "outputs": [],
   "source": [
    "import konlpy\n",
    "import pandas as pd\n",
    "import numpy as np\n"
   ]
  },
  {
   "cell_type": "code",
   "execution_count": 3,
   "metadata": {},
   "outputs": [
    {
     "data": {
      "text/plain": [
       "'0.6.0'"
      ]
     },
     "execution_count": 3,
     "metadata": {},
     "output_type": "execute_result"
    }
   ],
   "source": [
    "konlpy.__version__\n"
   ]
  },
  {
   "cell_type": "markdown",
   "metadata": {
    "id": "8wqfGmRZZQPi"
   },
   "source": [
    "데이터 파일을 읽어 리뷰 텍스트와 점수를 text_train, y_train 변수에 저장합니다. 데이터 파일의 내용은 번호, 텍스트, 레이블이 탭으로 구분되어 한 라인에 한개의 데이터 샘플이 들어 있습니다."
   ]
  },
  {
   "cell_type": "code",
   "execution_count": 5,
   "metadata": {
    "colab": {
     "base_uri": "https://localhost:8080/",
     "height": 223
    },
    "execution": {
     "iopub.execute_input": "2021-10-08T10:32:08.873456Z",
     "iopub.status.busy": "2021-10-08T10:32:08.872857Z",
     "iopub.status.idle": "2021-10-08T10:32:09.230697Z",
     "shell.execute_reply": "2021-10-08T10:32:09.231143Z"
    },
    "executionInfo": {
     "elapsed": 876,
     "status": "ok",
     "timestamp": 1706859550739,
     "user": {
      "displayName": "Bonghee Hong",
      "userId": "17805293653427923937"
     },
     "user_tz": -540
    },
    "id": "ULgroMLQZQPj",
    "outputId": "f9dd2fea-a2d1-4fca-9437-92441c9ed248"
   },
   "outputs": [
    {
     "data": {
      "text/html": [
       "<div>\n",
       "<style scoped>\n",
       "    .dataframe tbody tr th:only-of-type {\n",
       "        vertical-align: middle;\n",
       "    }\n",
       "\n",
       "    .dataframe tbody tr th {\n",
       "        vertical-align: top;\n",
       "    }\n",
       "\n",
       "    .dataframe thead th {\n",
       "        text-align: right;\n",
       "    }\n",
       "</style>\n",
       "<table border=\"1\" class=\"dataframe\">\n",
       "  <thead>\n",
       "    <tr style=\"text-align: right;\">\n",
       "      <th></th>\n",
       "      <th>id</th>\n",
       "      <th>document</th>\n",
       "      <th>label</th>\n",
       "    </tr>\n",
       "  </thead>\n",
       "  <tbody>\n",
       "    <tr>\n",
       "      <th>0</th>\n",
       "      <td>9976970</td>\n",
       "      <td>아 더빙.. 진짜 짜증나네요 목소리</td>\n",
       "      <td>0</td>\n",
       "    </tr>\n",
       "    <tr>\n",
       "      <th>1</th>\n",
       "      <td>3819312</td>\n",
       "      <td>흠...포스터보고 초딩영화줄....오버연기조차 가볍지 않구나</td>\n",
       "      <td>1</td>\n",
       "    </tr>\n",
       "    <tr>\n",
       "      <th>2</th>\n",
       "      <td>10265843</td>\n",
       "      <td>너무재밓었다그래서보는것을추천한다</td>\n",
       "      <td>0</td>\n",
       "    </tr>\n",
       "  </tbody>\n",
       "</table>\n",
       "</div>"
      ],
      "text/plain": [
       "         id                           document  label\n",
       "0   9976970                아 더빙.. 진짜 짜증나네요 목소리      0\n",
       "1   3819312  흠...포스터보고 초딩영화줄....오버연기조차 가볍지 않구나      1\n",
       "2  10265843                  너무재밓었다그래서보는것을추천한다      0"
      ]
     },
     "execution_count": 5,
     "metadata": {},
     "output_type": "execute_result"
    }
   ],
   "source": [
    "df_train = pd.read_csv('data/ratings_train.txt', delimiter='\\t', keep_default_na=False)\n",
    "\n",
    "df_train.head(n=3)"
   ]
  },
  {
   "cell_type": "code",
   "execution_count": 6,
   "metadata": {
    "execution": {
     "iopub.execute_input": "2021-10-08T10:32:09.246541Z",
     "iopub.status.busy": "2021-10-08T10:32:09.245860Z",
     "iopub.status.idle": "2021-10-08T10:32:09.247974Z",
     "shell.execute_reply": "2021-10-08T10:32:09.247434Z"
    },
    "executionInfo": {
     "elapsed": 325,
     "status": "ok",
     "timestamp": 1706859585190,
     "user": {
      "displayName": "Bonghee Hong",
      "userId": "17805293653427923937"
     },
     "user_tz": -540
    },
    "id": "3sVmtkRPZQPk"
   },
   "outputs": [],
   "source": [
    "text_train, y_train = df_train['document'].values, df_train['label'].values"
   ]
  },
  {
   "cell_type": "code",
   "execution_count": 7,
   "metadata": {
    "colab": {
     "base_uri": "https://localhost:8080/"
    },
    "executionInfo": {
     "elapsed": 338,
     "status": "ok",
     "timestamp": 1706845726161,
     "user": {
      "displayName": "Bonghee Hong",
      "userId": "17805293653427923937"
     },
     "user_tz": -540
    },
    "id": "Twn6hAOc7quE",
    "outputId": "5674dd4c-826c-42ea-abb1-ad53a12fc81b"
   },
   "outputs": [
    {
     "data": {
      "text/plain": [
       "numpy.ndarray"
      ]
     },
     "execution_count": 7,
     "metadata": {},
     "output_type": "execute_result"
    }
   ],
   "source": [
    "type(text_train)"
   ]
  },
  {
   "cell_type": "code",
   "execution_count": 8,
   "metadata": {
    "colab": {
     "base_uri": "https://localhost:8080/"
    },
    "executionInfo": {
     "elapsed": 347,
     "status": "ok",
     "timestamp": 1706845676145,
     "user": {
      "displayName": "Bonghee Hong",
      "userId": "17805293653427923937"
     },
     "user_tz": -540
    },
    "id": "0ZhZgR1X53ew",
    "outputId": "366f12fb-6991-494a-83f9-aef1bc963c38"
   },
   "outputs": [
    {
     "name": "stdout",
     "output_type": "stream",
     "text": [
      "['아 더빙.. 진짜 짜증나네요 목소리' '흠...포스터보고 초딩영화줄....오버연기조차 가볍지 않구나'\n",
      " '너무재밓었다그래서보는것을추천한다' '교도소 이야기구먼 ..솔직히 재미는 없다..평점 조정'\n",
      " '사이몬페그의 익살스런 연기가 돋보였던 영화!스파이더맨에서 늙어보이기만 했던 커스틴 던스트가 너무나도 이뻐보였다']\n"
     ]
    }
   ],
   "source": [
    "print(text_train[:5])"
   ]
  },
  {
   "cell_type": "markdown",
   "metadata": {
    "id": "9FFzuKBZZQPm"
   },
   "source": [
    "같은 방식으로 테스트 데이터를 읽습니다."
   ]
  },
  {
   "cell_type": "code",
   "execution_count": 9,
   "metadata": {
    "execution": {
     "iopub.execute_input": "2021-10-08T10:32:09.254864Z",
     "iopub.status.busy": "2021-10-08T10:32:09.252477Z",
     "iopub.status.idle": "2021-10-08T10:32:09.364211Z",
     "shell.execute_reply": "2021-10-08T10:32:09.363509Z"
    },
    "executionInfo": {
     "elapsed": 497,
     "status": "ok",
     "timestamp": 1706859652374,
     "user": {
      "displayName": "Bonghee Hong",
      "userId": "17805293653427923937"
     },
     "user_tz": -540
    },
    "id": "qP8XLPu6ZQPn"
   },
   "outputs": [],
   "source": [
    "df_test = pd.read_csv('data/ratings_test.txt', delimiter='\\t', keep_default_na=False)\n",
    "text_test = df_test['document'].values\n",
    "y_test = df_test['label'].values"
   ]
  },
  {
   "cell_type": "markdown",
   "metadata": {
    "id": "vMA-UBaVZQPo"
   },
   "source": [
    "훈련 데이터와 테스트 데이터의 크기를 확인합니다."
   ]
  },
  {
   "cell_type": "code",
   "execution_count": null,
   "metadata": {
    "colab": {
     "base_uri": "https://localhost:8080/"
    },
    "execution": {
     "iopub.execute_input": "2021-10-08T10:32:09.368652Z",
     "iopub.status.busy": "2021-10-08T10:32:09.367819Z",
     "iopub.status.idle": "2021-10-08T10:32:09.372199Z",
     "shell.execute_reply": "2021-10-08T10:32:09.371373Z"
    },
    "executionInfo": {
     "elapsed": 338,
     "status": "ok",
     "timestamp": 1706859656605,
     "user": {
      "displayName": "Bonghee Hong",
      "userId": "17805293653427923937"
     },
     "user_tz": -540
    },
    "id": "7BmLZZvxZQPp",
    "outputId": "ed6f908f-de6e-4579-e136-25e68c8b4850"
   },
   "outputs": [
    {
     "data": {
      "text/plain": [
       "(150000, array([75173, 74827]))"
      ]
     },
     "execution_count": 10,
     "metadata": {},
     "output_type": "execute_result"
    }
   ],
   "source": [
    "len(text_train), np.bincount(y_train) # label 0,1의 갯수"
   ]
  },
  {
   "cell_type": "code",
   "execution_count": 8,
   "metadata": {
    "colab": {
     "base_uri": "https://localhost:8080/"
    },
    "execution": {
     "iopub.execute_input": "2021-10-08T10:32:09.376830Z",
     "iopub.status.busy": "2021-10-08T10:32:09.376262Z",
     "iopub.status.idle": "2021-10-08T10:32:09.378739Z",
     "shell.execute_reply": "2021-10-08T10:32:09.379143Z"
    },
    "executionInfo": {
     "elapsed": 3,
     "status": "ok",
     "timestamp": 1706859659413,
     "user": {
      "displayName": "Bonghee Hong",
      "userId": "17805293653427923937"
     },
     "user_tz": -540
    },
    "id": "edJirwU4ZQPq",
    "outputId": "a1ff1469-9ce4-4f43-e0ba-266476448ffb"
   },
   "outputs": [
    {
     "data": {
      "text/plain": [
       "(50000, array([24827, 25173]))"
      ]
     },
     "execution_count": 8,
     "metadata": {},
     "output_type": "execute_result"
    }
   ],
   "source": [
    "len(text_test), np.bincount(y_test)"
   ]
  },
  {
   "cell_type": "markdown",
   "metadata": {
    "id": "Rbco8HIHZQPr"
   },
   "source": [
    "#### Okt"
   ]
  },
  {
   "cell_type": "markdown",
   "metadata": {},
   "source": [
    "- 피클링(Pickling)이란?\n",
    "\n",
    "  > 파이썬 객체를 그대로 파일이나 바이트 스트림으로 저장(직렬화) 하는 과정.\n",
    "\n",
    "  > 나중에 다시 불러올 때는 언피클링(unpickling) → 저장된 바이트 스트림을 다시 원래의 파이썬 객체로 복원."
   ]
  },
  {
   "cell_type": "markdown",
   "metadata": {
    "id": "J3-XtONRZQPr"
   },
   "source": [
    "KoNLPy 0.4.5 버전부터 `Twitter` 클래스가 `Okt` 클래스로 바뀌었습니다. [open-korean-text](https://github.com/open-korean-text/open-korean-text) 프로젝트는 [twitter-korean-text](https://github.com/twitter/twitter-korean-text) 프로젝트의 공식 포크입니다.\n",
    "\n",
    "피클링을 위해 \\_\\_setstate__, \\_\\_getstate__ 메서드를 추가하여 Okt 클래스를 감쌉니다."
   ]
  },
  {
   "cell_type": "markdown",
   "metadata": {},
   "source": [
    "- Okt 클래스는 무엇을 하나?\n",
    "\n",
    "  > KoNLPy의 대표적인 한국어 형태소 분석기.\n",
    "\n",
    "  > 원래 이름은 Twitter였는데, 0.4.5 버전부터 Okt(Open Korean Text)로 이름이 변경.\n",
    "\n",
    "  > 내부적으로는 open-korean-text 라이브러리를 사용.\n",
    "\n",
    "  > 하는 일:\n",
    "\n",
    "    >> 한글 문장을 **형태소 단위(작은 의미 단위)**로 쪼개기\n",
    "\n",
    "    >> 각 형태소의 품사 태깅(명사, 동사, 형용사 등)\n",
    "\n",
    "    >> 토큰화, 어간 추출, 정규화 같은 기본 전처리 제공"
   ]
  },
  {
   "cell_type": "code",
   "execution_count": null,
   "metadata": {},
   "outputs": [
    {
     "name": "stdout",
     "output_type": "stream",
     "text": [
      "['커널', '이', '자꾸', '죽어서', '속상해요', '.']\n",
      "[('커널', 'Noun'), ('이', 'Josa'), ('자꾸', 'Noun'), ('죽어서', 'Verb'), ('속상해요', 'Adjective'), ('.', 'Punctuation')]\n",
      "['커널', '자꾸']\n"
     ]
    }
   ],
   "source": [
    "from konlpy.tag import Okt\n",
    "okt = Okt()\n",
    "# morphs() : 형태소 단위 토큰화 < morph [형태]의 뜻, morpheme: 형태소\n",
    "# pos() : 형태소 + 품사 태깅\n",
    "# nouns() : 명사만 추출\n",
    "\n",
    "print(okt.morphs(\"커널이 자꾸 죽어서 속상해요.\"))\n",
    "# ['커널', '이', '자꾸', '죽', '어서', '속상', '하', '아요', '.']\n",
    "\n",
    "print(okt.pos(\"커널이 자꾸 죽어서 속상해요.\"))\n",
    "# [('커널', 'Noun'), ('이', 'Josa'), ('자꾸', 'Adverb'), ('죽', 'Verb'),\n",
    "#  ('어서', 'Eomi'), ('속상', 'Adjective'), ('하', 'Verb'), ('아요', 'Eomi'), ('.', 'Punctuation')]\n",
    "\n",
    "print(okt.nouns(\"커널이 자꾸 죽어서 속상해요.\"))\n",
    "# ['커널']\n"
   ]
  },
  {
   "cell_type": "code",
   "execution_count": 13,
   "metadata": {
    "id": "tLCIyufsZQPs"
   },
   "outputs": [],
   "source": [
    "from konlpy.tag import Okt\n",
    "\n",
    "class PicklableOkt(Okt):\n",
    "\n",
    "    def __init__(self, *args):\n",
    "        self.args = args\n",
    "        Okt.__init__(self, *args)\n",
    "\n",
    "    def __setstate__(self, state):\n",
    "        self.__init__(*state['args'])\n",
    "\n",
    "    def __getstate__(self):\n",
    "        return {'args': self.args}\n",
    "\n",
    "okt = PicklableOkt()"
   ]
  },
  {
   "cell_type": "markdown",
   "metadata": {},
   "source": [
    "- tfidfvectorizer__min_df: 단어가 너무 드물게 나오면 무시.\n",
    "\n",
    "  > 3 → 3개 문서 이상에서 등장해야 어휘에 포함\n",
    "\n",
    "  > 5, 7도 같은 의미. → 희귀 단어 제거, 과적합 방지.\n",
    "\n",
    "- tfidfvectorizer__ngram_range: n-그램 범위.\n",
    "\n",
    "  > (1,1): 유니그램(단어 하나)\n",
    "\n",
    "  > (1,2): 유니그램 + 바이그램(두 단어 연속도 포함)\n",
    "\n",
    "  > (1,3): 유니그램 + 바이그램 + 트라이그램까지 포함\n",
    "\n",
    "- logisticregression__C: 규제 강도 (역수).\n",
    "\n",
    "  > 0.1 → 규제가 강해서 단순한 모델\n",
    "\n",
    "  > 1 → 보통 수준\n",
    "\n",
    "  > 10 → 규제가 약해져서 더 복잡한 모델 허용"
   ]
  },
  {
   "cell_type": "markdown",
   "metadata": {},
   "source": [
    "- TfidfVectorizer(tokenizer=okt.morphs)\n",
    "\n",
    "  >텍스트 → 수치 벡터 변환.\n",
    "\n",
    "  > okt.morphs: KoNLPy의 Okt 형태소 분석기로 문장을 형태소 단위로 토큰화.\n",
    "\n",
    "    >> 예: \"커널이 죽어서 속상하다\" → ['커널', '이', '죽', '어서', '속상', '하다']\n",
    "\n",
    "  > TfidfVectorizer는 이렇게 뽑힌 형태소를 이용해 단어-문서 행렬을 만들고, TF-IDF 가중치를 계산.\n",
    "\n",
    "    >> TF = 단어 빈도\n",
    "\n",
    "    >> IDF = 드문 단어일수록 더 큰 가중치"
   ]
  },
  {
   "cell_type": "code",
   "execution_count": null,
   "metadata": {
    "colab": {
     "base_uri": "https://localhost:8080/"
    },
    "executionInfo": {
     "elapsed": 357076,
     "status": "ok",
     "timestamp": 1706758941495,
     "user": {
      "displayName": "Bonghee Hong",
      "userId": "17805293653427923937"
     },
     "user_tz": -540
    },
    "id": "HaErUtVcZQPt",
    "outputId": "4f15cb16-0d73-45ee-9874-36b54648aa0a",
    "scrolled": true
   },
   "outputs": [
    {
     "name": "stderr",
     "output_type": "stream",
     "text": [
      "/usr/local/lib/python3.10/dist-packages/sklearn/feature_extraction/text.py:525: UserWarning: The parameter 'token_pattern' will not be used since 'tokenizer' is not None'\n",
      "  warnings.warn(\n"
     ]
    },
    {
     "name": "stdout",
     "output_type": "stream",
     "text": [
      "최상의 크로스 밸리데이션 점수: 0.718\n",
      "최적의 크로스 밸리데이션 파라미터:  {'logisticregression__C': 1, 'tfidfvectorizer__min_df': 3, 'tfidfvectorizer__ngram_range': (1, 3)}\n"
     ]
    }
   ],
   "source": [
    "from sklearn.feature_extraction.text import TfidfVectorizer\n",
    "from sklearn.linear_model import LogisticRegression\n",
    "from sklearn.pipeline import make_pipeline\n",
    "from sklearn.model_selection import GridSearchCV\n",
    "\n",
    "param_grid = {'tfidfvectorizer__min_df': [3, 5, 7],\n",
    "              'tfidfvectorizer__ngram_range': [(1, 1), (1, 2), (1, 3)],\n",
    "              'logisticregression__C': [0.1, 1, 10]}\n",
    "pipe = make_pipeline(TfidfVectorizer(tokenizer=okt.morphs),\n",
    "                     LogisticRegression())\n",
    "grid = GridSearchCV(pipe, param_grid, n_jobs=-1)\n",
    "\n",
    "# 그리드 서치를 수행합니다\n",
    "grid.fit(text_train[:1000], y_train[:1000])\n",
    "print(\"최상의 교차 검증 점수: {:.3f}\".format(grid.best_score_))\n",
    "print(\"최적의 교차 검증 파라미터: \", grid.best_params_)"
   ]
  },
  {
   "cell_type": "code",
   "execution_count": null,
   "metadata": {
    "colab": {
     "base_uri": "https://localhost:8080/"
    },
    "executionInfo": {
     "elapsed": 6586,
     "status": "ok",
     "timestamp": 1706758990521,
     "user": {
      "displayName": "Bonghee Hong",
      "userId": "17805293653427923937"
     },
     "user_tz": -540
    },
    "id": "--PN5vDqZQPu",
    "outputId": "7c1a5800-615f-40cb-a9de-bca6ea6b2f13"
   },
   "outputs": [
    {
     "name": "stdout",
     "output_type": "stream",
     "text": [
      "테스트 세트 점수: 0.713\n"
     ]
    }
   ],
   "source": [
    "tfidfvectorizer = grid.best_estimator_.named_steps[\"tfidfvectorizer\"]\n",
    "X_test = tfidfvectorizer.transform(text_test[:1000])\n",
    "logisticregression = grid.best_estimator_.named_steps[\"logisticregression\"]\n",
    "score = logisticregression.score(X_test, y_test[:1000])\n",
    "\n",
    "print(\"테스트 세트 점수: {:.3f}\".format(score))"
   ]
  }
 ],
 "metadata": {
  "colab": {
   "provenance": []
  },
  "environment": {
   "kernel": "python3",
   "name": "common-cpu.m102",
   "type": "gcloud",
   "uri": "gcr.io/deeplearning-platform-release/base-cpu:m102"
  },
  "kernelspec": {
   "display_name": "base",
   "language": "python",
   "name": "python3"
  },
  "language_info": {
   "codemirror_mode": {
    "name": "ipython",
    "version": 3
   },
   "file_extension": ".py",
   "mimetype": "text/x-python",
   "name": "python",
   "nbconvert_exporter": "python",
   "pygments_lexer": "ipython3",
   "version": "3.11.9"
  }
 },
 "nbformat": 4,
 "nbformat_minor": 0
}
